{
  "nbformat": 4,
  "nbformat_minor": 0,
  "metadata": {
    "colab": {
      "name": "NTechLab-intership.ipynb",
      "provenance": [],
      "collapsed_sections": []
    },
    "kernelspec": {
      "name": "python3",
      "display_name": "Python 3"
    },
    "accelerator": "GPU"
  },
  "cells": [
    {
      "cell_type": "code",
      "metadata": {
        "id": "7FMy5CsAH4ep",
        "colab_type": "code",
        "colab": {}
      },
      "source": [
        "import tensorflow as tf\n",
        "from tensorflow.keras import layers\n",
        "from tensorflow.keras import Model\n",
        "from tensorflow.keras.preprocessing.image import ImageDataGenerator\n",
        "\n",
        "import pandas as pd\n",
        "\n",
        "import os\n",
        "import random"
      ],
      "execution_count": 56,
      "outputs": []
    },
    {
      "cell_type": "code",
      "metadata": {
        "id": "x7v9Q87rPdIa",
        "colab_type": "code",
        "colab": {}
      },
      "source": [
        "from google.colab import files\n",
        "uploaded = files.upload()\n",
        "\n",
        "#здесь не сделана проверка на количество файлов, имя файла и расширение,\n",
        "#потому что в конкретно этом случае это не так важно\n",
        "filename = list(uploaded.keys())[0]\n",
        "\n",
        "with tarfile.open(filename, 'r') as tar:\n",
        "    tar.extractall(\"/content/\")"
      ],
      "execution_count": 76,
      "outputs": []
    },
    {
      "cell_type": "code",
      "metadata": {
        "id": "FaWP0zZxIQkg",
        "colab_type": "code",
        "colab": {
          "base_uri": "https://localhost:8080/",
          "height": 350
        },
        "outputId": "b7bc6315-10ff-4b57-d103-faf43c6fff4c"
      },
      "source": [
        "base_dir = os.getcwd()\n",
        "\n",
        "#создаю директории для тестовых и тренировочных данных, чтобы потом \n",
        "#использовать названия директорий как метки, а из директорий создать\n",
        "#image_generator, чтобы искусственно увеличить датасет\n",
        "test_dir = os.path.join(base_dir, \"internship_data/test\")\n",
        "train_dir = os.path.join(base_dir, \"internship_data/train\")\n",
        "\n",
        "test_dir_man = os.path.join(test_dir, \"male\")\n",
        "test_dir_women = os.path.join(test_dir, \"female\")\n",
        "\n",
        "train_dir_man = os.path.join(train_dir, \"male\")\n",
        "train_dir_women = os.path.join(train_dir, \"female\")\n",
        "\n",
        "os.makedirs(test_dir_man)\n",
        "os.makedirs(test_dir_women)\n",
        "os.makedirs(train_dir_man)\n",
        "os.makedirs(train_dir_women)"
      ],
      "execution_count": 77,
      "outputs": [
        {
          "output_type": "error",
          "ename": "FileExistsError",
          "evalue": "ignored",
          "traceback": [
            "\u001b[0;31m---------------------------------------------------------------------------\u001b[0m",
            "\u001b[0;31mFileExistsError\u001b[0m                           Traceback (most recent call last)",
            "\u001b[0;32m<ipython-input-77-04be4bb45e0d>\u001b[0m in \u001b[0;36m<module>\u001b[0;34m()\u001b[0m\n\u001b[1;32m     13\u001b[0m \u001b[0mtrain_dir_women\u001b[0m \u001b[0;34m=\u001b[0m \u001b[0mos\u001b[0m\u001b[0;34m.\u001b[0m\u001b[0mpath\u001b[0m\u001b[0;34m.\u001b[0m\u001b[0mjoin\u001b[0m\u001b[0;34m(\u001b[0m\u001b[0mtrain_dir\u001b[0m\u001b[0;34m,\u001b[0m \u001b[0;34m\"female\"\u001b[0m\u001b[0;34m)\u001b[0m\u001b[0;34m\u001b[0m\u001b[0;34m\u001b[0m\u001b[0m\n\u001b[1;32m     14\u001b[0m \u001b[0;34m\u001b[0m\u001b[0m\n\u001b[0;32m---> 15\u001b[0;31m \u001b[0mos\u001b[0m\u001b[0;34m.\u001b[0m\u001b[0mmakedirs\u001b[0m\u001b[0;34m(\u001b[0m\u001b[0mtest_dir_man\u001b[0m\u001b[0;34m)\u001b[0m\u001b[0;34m\u001b[0m\u001b[0;34m\u001b[0m\u001b[0m\n\u001b[0m\u001b[1;32m     16\u001b[0m \u001b[0mos\u001b[0m\u001b[0;34m.\u001b[0m\u001b[0mmakedirs\u001b[0m\u001b[0;34m(\u001b[0m\u001b[0mtest_dir_women\u001b[0m\u001b[0;34m)\u001b[0m\u001b[0;34m\u001b[0m\u001b[0;34m\u001b[0m\u001b[0m\n\u001b[1;32m     17\u001b[0m \u001b[0mos\u001b[0m\u001b[0;34m.\u001b[0m\u001b[0mmakedirs\u001b[0m\u001b[0;34m(\u001b[0m\u001b[0mtrain_dir_man\u001b[0m\u001b[0;34m)\u001b[0m\u001b[0;34m\u001b[0m\u001b[0;34m\u001b[0m\u001b[0m\n",
            "\u001b[0;32m/usr/lib/python3.6/os.py\u001b[0m in \u001b[0;36mmakedirs\u001b[0;34m(name, mode, exist_ok)\u001b[0m\n\u001b[1;32m    218\u001b[0m             \u001b[0;32mreturn\u001b[0m\u001b[0;34m\u001b[0m\u001b[0;34m\u001b[0m\u001b[0m\n\u001b[1;32m    219\u001b[0m     \u001b[0;32mtry\u001b[0m\u001b[0;34m:\u001b[0m\u001b[0;34m\u001b[0m\u001b[0;34m\u001b[0m\u001b[0m\n\u001b[0;32m--> 220\u001b[0;31m         \u001b[0mmkdir\u001b[0m\u001b[0;34m(\u001b[0m\u001b[0mname\u001b[0m\u001b[0;34m,\u001b[0m \u001b[0mmode\u001b[0m\u001b[0;34m)\u001b[0m\u001b[0;34m\u001b[0m\u001b[0;34m\u001b[0m\u001b[0m\n\u001b[0m\u001b[1;32m    221\u001b[0m     \u001b[0;32mexcept\u001b[0m \u001b[0mOSError\u001b[0m\u001b[0;34m:\u001b[0m\u001b[0;34m\u001b[0m\u001b[0;34m\u001b[0m\u001b[0m\n\u001b[1;32m    222\u001b[0m         \u001b[0;31m# Cannot rely on checking for EEXIST, since the operating system\u001b[0m\u001b[0;34m\u001b[0m\u001b[0;34m\u001b[0m\u001b[0;34m\u001b[0m\u001b[0m\n",
            "\u001b[0;31mFileExistsError\u001b[0m: [Errno 17] File exists: '/content/internship_data/test/male'"
          ]
        }
      ]
    },
    {
      "cell_type": "code",
      "metadata": {
        "id": "oH4wDSspIQmt",
        "colab_type": "code",
        "colab": {}
      },
      "source": [
        "man_dir = os.path.join(base_dir,\"internship_data/male/\") \n",
        "women_dir = os.path.join(base_dir,\"internship_data/female/\")"
      ],
      "execution_count": 4,
      "outputs": []
    },
    {
      "cell_type": "code",
      "metadata": {
        "id": "Drrh2eHiIQpO",
        "colab_type": "code",
        "colab": {
          "base_uri": "https://localhost:8080/",
          "height": 51
        },
        "outputId": "8752a56e-555a-4d63-93bd-b12bed6a94b9"
      },
      "source": [
        "#получаю список названий фотографий в каждой директории\n",
        "man_photos = os.listdir(man_dir)\n",
        "women_photos = os.listdir(women_dir)\n",
        "\n",
        "#разбиваю датасет на тестовый и тренировочный в соотношении 20/80\n",
        "partition = .8\n",
        "border = int(len(man_photos) * .8)\n",
        "\n",
        "#перемешиваю фотографии\n",
        "random.shuffle(man_photos)\n",
        "random.shuffle(women_photos)\n",
        "\n",
        "#разделяю на тренировочные и тестовые данные в соответствии с \n",
        "#выбранным соотношением\n",
        "man_train = man_photos[:border]\n",
        "man_test = man_photos[border:]\n",
        "\n",
        "women_train = women_photos[:border]\n",
        "women_test = women_photos[border:]\n",
        "\n",
        "print(len(man_train), len(man_test))\n",
        "print(len(women_train), len(women_test))"
      ],
      "execution_count": 78,
      "outputs": [
        {
          "output_type": "stream",
          "text": [
            "16 4\n",
            "16 4\n"
          ],
          "name": "stdout"
        }
      ]
    },
    {
      "cell_type": "code",
      "metadata": {
        "id": "Vo_NOdhwIQt1",
        "colab_type": "code",
        "colab": {}
      },
      "source": [
        "#в этой ячейке закидываю листы с тестовыми и тренировочными фотографиями \n",
        "#в соответствующие им директории\n",
        "\n",
        "for item in man_train:\n",
        "    os.replace(os.path.join(man_dir, item), os.path.join(train_dir_man, item))\n",
        "\n",
        "for item in women_train:\n",
        "    os.replace(os.path.join(women_dir, item), os.path.join(train_dir_women, item))\n",
        "    \n",
        "for item in man_test:\n",
        "    os.replace(os.path.join(man_dir, item), os.path.join(test_dir_man, item))\n",
        "    \n",
        "for item in women_test:\n",
        "    os.replace(os.path.join(women_dir, item), os.path.join(test_dir_women, item))"
      ],
      "execution_count": 6,
      "outputs": []
    },
    {
      "cell_type": "code",
      "metadata": {
        "id": "3LeNLTqfIQwf",
        "colab_type": "code",
        "colab": {
          "base_uri": "https://localhost:8080/",
          "height": 85
        },
        "outputId": "ebf13e03-f015-4fab-e175-284e3bbc2ad7"
      },
      "source": [
        "#проверяю, правильно ли переместила файлы по директориям (по количеству)\n",
        "print(len(os.listdir(train_dir_man)))\n",
        "print(len(os.listdir(train_dir_women)))\n",
        "\n",
        "print(len(os.listdir(test_dir_man)))\n",
        "print(len(os.listdir(test_dir_women)))"
      ],
      "execution_count": 7,
      "outputs": [
        {
          "output_type": "stream",
          "text": [
            "39985\n",
            "39985\n",
            "9997\n",
            "9997\n"
          ],
          "name": "stdout"
        }
      ]
    },
    {
      "cell_type": "code",
      "metadata": {
        "id": "uyTdZuaDIQy0",
        "colab_type": "code",
        "colab": {}
      },
      "source": [
        "#создаю модель из 4 свёрточных слоёв и 2 полносвязных, один из которых выходной.\n",
        "#функция активации везде relu, на выходе сигмоида, потому что нужно \n",
        "#определить два класса\n",
        "model = tf.keras.models.Sequential([\n",
        "    tf.keras.layers.Conv2D(32, (3,3), activation='relu', input_shape=(150, 150,3)),\n",
        "    tf.keras.layers.MaxPooling2D(2, 2),\n",
        "    tf.keras.layers.Conv2D(64, (3,3), activation='relu'),\n",
        "    tf.keras.layers.MaxPooling2D(2,2),\n",
        "    tf.keras.layers.Conv2D(64, (3,3), activation='relu'),\n",
        "    tf.keras.layers.MaxPooling2D(2,2),\n",
        "    tf.keras.layers.Conv2D(128, (3,3), activation='relu'),\n",
        "    tf.keras.layers.MaxPooling2D(2,2),\n",
        "    tf.keras.layers.Flatten(),\n",
        "    tf.keras.layers.Dense(512, activation='relu'),\n",
        "    tf.keras.layers.Dense(1, activation='sigmoid')\n",
        "])"
      ],
      "execution_count": 48,
      "outputs": []
    },
    {
      "cell_type": "code",
      "metadata": {
        "id": "DikAhWwQIQ2A",
        "colab_type": "code",
        "colab": {}
      },
      "source": [
        "#компилирую модель с функцией потерь бинарная кроссэнтропия, \n",
        "#оптимизатором RMSProp и метрикой для проверки accuracy\n",
        "model.compile(loss='binary_crossentropy',\n",
        "              optimizer='adam',\n",
        "              metrics=['accuracy'])"
      ],
      "execution_count": 49,
      "outputs": []
    },
    {
      "cell_type": "code",
      "metadata": {
        "id": "h6mJQ4ZCRY3l",
        "colab_type": "code",
        "colab": {}
      },
      "source": [
        "#создаю два генератора, в каждом из которых привожу значения пикселей к\n",
        "#диапазону [0;1], таким образом, выполняя нормализацию.\n",
        "#Кроме того, в этой ячейке производится искусственное увеличение датасета.\n",
        "#На лету фотографии будут случайно поворачиваться и отражаться.\n",
        "\n",
        "\n",
        "train_datagen = ImageDataGenerator(\n",
        "    rescale=1./255,                    #нормализация\n",
        "    width_shift_range=0.2,             #смещение по ширине\n",
        "    height_shift_range=0.2,            #смещение по высоте\n",
        "    horizontal_flip=True,              #отражение по горизонтали\n",
        "    )\n",
        "\n",
        "#здесь делаю только нормализацию, потому что это тестовые данные, их не надо\n",
        "#дополнять\n",
        "test_datagen = ImageDataGenerator(rescale=1./255)"
      ],
      "execution_count": 13,
      "outputs": []
    },
    {
      "cell_type": "code",
      "metadata": {
        "id": "aaoFR0oERY8I",
        "colab_type": "code",
        "colab": {
          "base_uri": "https://localhost:8080/",
          "height": 51
        },
        "outputId": "e25bb3e1-348c-470c-c743-3e8358c7d0e3"
      },
      "source": [
        "#Говорю генераторам, откуда им брать данные и каким размером они должны быть,\n",
        "#чтобы попасть на вход нейронной сети. Проделываю это для тестовых и \n",
        "#тренировочных данных\n",
        "train_generator = train_datagen.flow_from_directory(\n",
        "        train_dir,  # Директория с тренировочными изображениями\n",
        "        target_size=(150, 150),  # Все изображения будут иметь размер 150*150\n",
        "        batch_size=64,\n",
        "        class_mode='binary' #Бинарные метки, поскольку у нас два класса\n",
        "        )\n",
        "\n",
        "validation_generator = test_datagen.flow_from_directory(\n",
        "        test_dir,   # Директория с тестовыми изображениями\n",
        "        target_size=(150, 150),\n",
        "        batch_size=64,\n",
        "        class_mode='binary'\n",
        "        )"
      ],
      "execution_count": 44,
      "outputs": [
        {
          "output_type": "stream",
          "text": [
            "Found 79970 images belonging to 2 classes.\n",
            "Found 19999 images belonging to 2 classes.\n"
          ],
          "name": "stdout"
        }
      ]
    },
    {
      "cell_type": "code",
      "metadata": {
        "id": "lhtQ75tKRZBH",
        "colab_type": "code",
        "colab": {
          "base_uri": "https://localhost:8080/",
          "height": 527
        },
        "outputId": "693e9220-1797-4e15-9e35-7a52e5280b25"
      },
      "source": [
        "#обучение модели. Количество эпох было выбрано\n",
        "#опытным путём. Я сравнивала точность и ошибку на тестовых и тренировочных \n",
        "#данных, нашла момент, когда точность на тренировочных начала возрастать \n",
        "#одновременно с ошибкой на тестовых и взяла эпоху, предшествующую этой.\n",
        "\n",
        "history = model.fit(\n",
        "      train_generator,\n",
        "      steps_per_epoch=1250,\n",
        "      epochs=15,\n",
        "      validation_data=validation_generator,\n",
        "      validation_steps=312,\n",
        "      verbose=1,\n",
        "      callbacks = check_accuracy)"
      ],
      "execution_count": 52,
      "outputs": [
        {
          "output_type": "stream",
          "text": [
            "Epoch 1/15\n",
            "1250/1250 [==============================] - 455s 364ms/step - loss: 0.4482 - accuracy: 0.7959 - val_loss: 0.2624 - val_accuracy: 0.8983\n",
            "Epoch 2/15\n",
            "1250/1250 [==============================] - 454s 364ms/step - loss: 0.2790 - accuracy: 0.8856 - val_loss: 0.1686 - val_accuracy: 0.9330\n",
            "Epoch 3/15\n",
            "1250/1250 [==============================] - 454s 363ms/step - loss: 0.2101 - accuracy: 0.9148 - val_loss: 0.1473 - val_accuracy: 0.9422\n",
            "Epoch 4/15\n",
            "1250/1250 [==============================] - 454s 363ms/step - loss: 0.1784 - accuracy: 0.9284 - val_loss: 0.1479 - val_accuracy: 0.9415\n",
            "Epoch 5/15\n",
            "1250/1250 [==============================] - 452s 362ms/step - loss: 0.1604 - accuracy: 0.9374 - val_loss: 0.1229 - val_accuracy: 0.9525\n",
            "Epoch 6/15\n",
            "1250/1250 [==============================] - 453s 362ms/step - loss: 0.1528 - accuracy: 0.9400 - val_loss: 0.1198 - val_accuracy: 0.9524\n",
            "Epoch 7/15\n",
            "1250/1250 [==============================] - 452s 361ms/step - loss: 0.1428 - accuracy: 0.9445 - val_loss: 0.1498 - val_accuracy: 0.9429\n",
            "Epoch 8/15\n",
            "1250/1250 [==============================] - 454s 363ms/step - loss: 0.1371 - accuracy: 0.9475 - val_loss: 0.1339 - val_accuracy: 0.9476\n",
            "Epoch 9/15\n",
            "1250/1250 [==============================] - 453s 362ms/step - loss: 0.1306 - accuracy: 0.9488 - val_loss: 0.1816 - val_accuracy: 0.9267\n",
            "Epoch 10/15\n",
            "1250/1250 [==============================] - 454s 363ms/step - loss: 0.1260 - accuracy: 0.9518 - val_loss: 0.1267 - val_accuracy: 0.9557\n",
            "Epoch 11/15\n",
            "1250/1250 [==============================] - 454s 363ms/step - loss: 0.1240 - accuracy: 0.9525 - val_loss: 0.0985 - val_accuracy: 0.9635\n",
            "Epoch 12/15\n",
            "1250/1250 [==============================] - 453s 363ms/step - loss: 0.1209 - accuracy: 0.9538 - val_loss: 0.1039 - val_accuracy: 0.9614\n",
            "Epoch 13/15\n",
            "1250/1250 [==============================] - 454s 363ms/step - loss: 0.1173 - accuracy: 0.9558 - val_loss: 0.0975 - val_accuracy: 0.9628\n",
            "Epoch 14/15\n",
            "1250/1250 [==============================] - 455s 364ms/step - loss: 0.1146 - accuracy: 0.9564 - val_loss: 0.0930 - val_accuracy: 0.9648\n",
            "Epoch 15/15\n",
            "1250/1250 [==============================] - 455s 364ms/step - loss: 0.1122 - accuracy: 0.9572 - val_loss: 0.0953 - val_accuracy: 0.9635\n"
          ],
          "name": "stdout"
        }
      ]
    },
    {
      "cell_type": "code",
      "metadata": {
        "id": "IsHYipUpGc71",
        "colab_type": "code",
        "colab": {
          "base_uri": "https://localhost:8080/",
          "height": 545
        },
        "outputId": "0f7bfce6-4f15-4f9a-bb25-599a481fc9a4"
      },
      "source": [
        "#графики для наглядности точности и потерь\n",
        "import matplotlib.pyplot as plt\n",
        "acc = history.history['accuracy']\n",
        "val_acc = history.history['val_accuracy']\n",
        "loss = history.history['loss']\n",
        "val_loss = history.history['val_loss']\n",
        "\n",
        "epochs = range(len(acc))\n",
        "\n",
        "plt.plot(epochs, acc, 'r', label='Training accuracy')\n",
        "plt.plot(epochs, val_acc, 'b', label='Validation accuracy')\n",
        "plt.title('Training and validation accuracy')\n",
        "plt.legend()\n",
        "\n",
        "\n",
        "plt.figure()\n",
        "\n",
        "plt.plot(epochs, loss, 'r', label='Training Loss')\n",
        "plt.plot(epochs, val_loss, 'b', label='Validation Loss')\n",
        "plt.title('Training and validation loss')\n",
        "plt.legend()\n",
        "\n",
        "plt.show()"
      ],
      "execution_count": 54,
      "outputs": [
        {
          "output_type": "display_data",
          "data": {
            "image/png": "[encoded data removed]",
            "text/plain": [
              "<Figure size 432x288 with 1 Axes>"
            ]
          },
          "metadata": {
            "tags": [],
            "needs_background": "light"
          }
        },
        {
          "output_type": "display_data",
          "data": {
            "image/png": "[encoded data removed]",
            "text/plain": [
              "<Figure size 432x288 with 1 Axes>"
            ]
          },
          "metadata": {
            "tags": [],
            "needs_background": "light"
          }
        }
      ]
    },
    {
      "cell_type": "code",
      "metadata": {
        "id": "kEFFA3vKRY_N",
        "colab_type": "code",
        "colab": {}
      },
      "source": [
        "#сохраняю получившуюся модель модель\n",
        "model.save(\"/content/model.h5\")\n",
        "files.download(\"/content/model_with_RELU.h5\") "
      ],
      "execution_count": null,
      "outputs": []
    }
  ]
}